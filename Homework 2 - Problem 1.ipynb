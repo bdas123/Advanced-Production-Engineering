{
 "cells": [
  {
   "cell_type": "code",
   "execution_count": 43,
   "metadata": {},
   "outputs": [],
   "source": [
    "import numpy as np\n",
    "import matplotlib.pyplot as plt\n",
    "import pandas as pd"
   ]
  },
  {
   "cell_type": "code",
   "execution_count": 51,
   "metadata": {},
   "outputs": [],
   "source": [
    "#Enter variables\n",
    "\n",
    "length_feet = 1000\n",
    "horizontal_permeability_md = 200\n",
    "viscosity_cp = 0.7\n",
    "formation_volume_factor_rb_per_stb = 1.34\n",
    "wellbore_radius_ft = 0.365"
   ]
  },
  {
   "cell_type": "markdown",
   "metadata": {},
   "source": [
    "# Problem 1"
   ]
  },
  {
   "cell_type": "code",
   "execution_count": 52,
   "metadata": {},
   "outputs": [],
   "source": [
    "#Enter variables\n",
    "height_ft = 50\n",
    "permeability_ratio_vertical_over_horizontal = 1\n",
    "drainage_area_acres = 160\n",
    "drainage_area_ft2 = drainage_area_acres * 43560\n",
    "drainage_radius_ft = np.sqrt(drainage_area_ft2/np.pi)\n",
    "length_height_ratio = np.linspace(1,40,5)\n",
    "length_problem_1 = length_height_ratio * height_ft\n",
    "delta = np.linspace(1,height_ft/2,51)"
   ]
  },
  {
   "cell_type": "markdown",
   "metadata": {},
   "source": [
    "Use the equation\n",
    "\n",
    "$\\frac{q}{\\Delta p} = \\frac{k_H h }{141.2 \\mu B (ln{\\frac {a+\\sqrt{a^{2} - (L/2)^{2}}}{L/2}}+ \\frac{I_{ani} h}{L}ln\\frac{(I_{ani}h/2)^2 + (I_{ani}\\delta)^2}{I_{ani}hr_w/2}}$\n",
    "\n",
    "$I_{ani} = \\sqrt{\\frac{k_h}{k_v}}$"
   ]
  },
  {
   "cell_type": "markdown",
   "metadata": {},
   "source": [
    "# Assumptions"
   ]
  },
  {
   "cell_type": "markdown",
   "metadata": {},
   "source": [
    "# 1) a = half-length for concentric well"
   ]
  },
  {
   "cell_type": "markdown",
   "metadata": {},
   "source": [
    "# 2) We ignore the skin factor"
   ]
  },
  {
   "cell_type": "code",
   "execution_count": 53,
   "metadata": {},
   "outputs": [],
   "source": [
    "#Perform computations\n",
    "\n",
    "## Compute anisotropic factor\n",
    "anisotropic_factor = np.sqrt((permeability_ratio_vertical_over_horizontal)**(-1))\n",
    "\n",
    "## Compute productivity\n",
    "\n",
    "def productivity(horizontal_permeability_md, height_ft, formation_volume_factor_rb_per_stb, viscosity_cp, length_problem_1, anisotropic_factor, wellbore_radius_ft, delta,value):\n",
    "   \n",
    "    #Compute a\n",
    "    \n",
    "    if value == 0:\n",
    "    \n",
    "        a_part_1 = drainage_radius_ft/(length_problem_1/2)\n",
    "        a = (length_problem_1/2)*(0.5+(0.25+(a_part_1**4))**0.5)**0.5\n",
    "        \n",
    "    else:\n",
    "        \n",
    "        a = length_problem_1/2\n",
    "    \n",
    "    #Compute entire equation\n",
    "    \n",
    "    numerator = horizontal_permeability_md * height_ft\n",
    "    denominator_part_1 = 141.2*formation_volume_factor_rb_per_stb * viscosity_cp\n",
    "    denominator_part_2 = np.log((a + np.sqrt((a**2)-(length_problem_1/2)**2))/(length_problem_1/2))\n",
    "    denominator_part_3 = (anisotropic_factor * height_ft)/length_problem_1\n",
    "    denominator_part_4 = np.log(((anisotropic_factor*height_ft/2)**2+(anisotropic_factor*delta)**2)/(wellbore_radius_ft*anisotropic_factor*height_ft/2))\n",
    "    well_productivity = numerator/(denominator_part_1 *(denominator_part_2+denominator_part_3*denominator_part_4))\n",
    "    \n",
    "    return well_productivity"
   ]
  },
  {
   "cell_type": "code",
   "execution_count": 54,
   "metadata": {},
   "outputs": [],
   "source": [
    "eccentric_well_productivity = np.zeros([delta.size, length_height_ratio.size])\n",
    "concentric_well_productivity = np.zeros([delta.size, length_height_ratio.size])\n",
    "for i in range(0,5):\n",
    "    eccentric_well_productivity[:,i] = productivity(horizontal_permeability_md, height_ft, formation_volume_factor_rb_per_stb, viscosity_cp, length_problem_1[i], anisotropic_factor, wellbore_radius_ft, delta,0)\n",
    "    concentric_well_productivity[:,i] = productivity(horizontal_permeability_md, height_ft, formation_volume_factor_rb_per_stb, viscosity_cp, length_problem_1[i], anisotropic_factor, wellbore_radius_ft, delta,1)\n",
    "ratio = eccentric_well_productivity/concentric_well_productivity"
   ]
  },
  {
   "cell_type": "code",
   "execution_count": 55,
   "metadata": {},
   "outputs": [
    {
     "data": {
      "text/plain": [
       "<matplotlib.legend.Legend at 0x7fef80483a00>"
      ]
     },
     "execution_count": 55,
     "metadata": {},
     "output_type": "execute_result"
    },
    {
     "data": {
      "image/png": "[encoded data removed]",
      "text/plain": [
       "<Figure size 432x288 with 1 Axes>"
      ]
     },
     "metadata": {
      "needs_background": "light"
     },
     "output_type": "display_data"
    }
   ],
   "source": [
    "for i in range(0,length_height_ratio.size):\n",
    "    plt.plot(2*delta/height_ft, ratio[:,i], label = length_height_ratio[i])\n",
    "plt.xlabel(r\"$\\frac{2 \\delta}{h}$\", fontsize=20)\n",
    "plt.ylabel(r\"$\\frac{J_h}{J_v}$\", fontsize = 20)\n",
    "plt.title(\"Problem 1\", fontsize = 22)\n",
    "plt.legend()"
   ]
  }
 ],
 "metadata": {
  "kernelspec": {
   "display_name": "Python 3",
   "language": "python",
   "name": "python3"
  },
  "language_info": {
   "codemirror_mode": {
    "name": "ipython",
    "version": 3
   },
   "file_extension": ".py",
   "mimetype": "text/x-python",
   "name": "python",
   "nbconvert_exporter": "python",
   "pygments_lexer": "ipython3",
   "version": "3.8.5"
  }
 },
 "nbformat": 4,
 "nbformat_minor": 4
}
